{
 "cells": [
  {
   "cell_type": "markdown",
   "metadata": {},
   "source": [
    "# Dataset Upload"
   ]
  },
  {
   "cell_type": "markdown",
   "metadata": {},
   "source": [
    "In addition to creating and editing Datasets in the LangSmith UI, you can also create and edit datasets with the LangSmith SDK."
   ]
  },
  {
   "cell_type": "markdown",
   "metadata": {},
   "source": [
    "Let's go ahead an upload a list of examples that we have from our RAG application to LangSmith as a new dataset."
   ]
  },
  {
   "cell_type": "code",
   "execution_count": 2,
   "metadata": {},
   "outputs": [
    {
     "data": {
      "text/plain": [
       "True"
      ]
     },
     "execution_count": 2,
     "metadata": {},
     "output_type": "execute_result"
    }
   ],
   "source": [
    "# Or you can use a .env file\n",
    "from dotenv import load_dotenv\n",
    "load_dotenv(dotenv_path=\"../../.env\", override=True)"
   ]
  },
  {
   "cell_type": "code",
   "execution_count": 10,
   "metadata": {},
   "outputs": [
    {
     "name": "stdout",
     "output_type": "stream",
     "text": [
      "Dataset: LangSmith QA Dataset, ID: 4e2cdfca-9b4e-42e4-a2ce-3863a1f12b9e\n",
      "Using dataset ID: 4e2cdfca-9b4e-42e4-a2ce-3863a1f12b9e\n"
     ]
    },
    {
     "data": {
      "text/plain": [
       "{'example_ids': ['7f8e888e-bdbb-4042-8078-300d07e5a26e',\n",
       "  'd66ba43d-0b47-44dc-931b-b83dbcf17d41',\n",
       "  'a58b9320-834c-44df-82db-85b2d82093a1',\n",
       "  'f88eb70e-d6df-413d-8289-649327b55c29',\n",
       "  'e9768014-c296-4f1a-ad10-9a8c51037c00',\n",
       "  '2d98626f-5605-4130-88eb-addd58d29cc9',\n",
       "  '9c77b9b8-7fab-45bb-83bc-69ed4dfab7c4',\n",
       "  'af8d0fb7-1c8b-4aaf-98c3-a66b70d627f6',\n",
       "  'f86bb904-66ad-4dd8-b236-82fd4205a1b9',\n",
       "  '73a48760-1659-4a75-859f-3b5b62d642f5'],\n",
       " 'count': 10}"
      ]
     },
     "execution_count": 10,
     "metadata": {},
     "output_type": "execute_result"
    }
   ],
   "source": [
    "from langsmith import Client\n",
    "\n",
    "client = Client()\n",
    "\n",
    "# List all datasets and get the ID\n",
    "datasets = list(client.list_datasets())\n",
    "for ds in datasets:\n",
    "    print(f\"Dataset: {ds.name}, ID: {ds.id}\")\n",
    "\n",
    "# Or get a specific dataset by name\n",
    "dataset = client.read_dataset(dataset_name=\"LangSmith QA Dataset\")\n",
    "dataset_id = dataset.id\n",
    "\n",
    "print(f\"Using dataset ID: {dataset_id}\")\n",
    "\n",
    "# Now use this ID\n",
    "inputs = [{\"question\": input_prompt} for input_prompt, _ in example_inputs]\n",
    "outputs = [{\"output\": output_answer} for _, output_answer in example_inputs]\n",
    "\n",
    "client.create_examples(\n",
    "    inputs=inputs,\n",
    "    outputs=outputs,\n",
    "    dataset_id=dataset_id,\n",
    ")"
   ]
  },
  {
   "cell_type": "markdown",
   "metadata": {},
   "source": [
    "## Submitting another Trace"
   ]
  },
  {
   "cell_type": "markdown",
   "metadata": {},
   "source": [
    "I've moved our RAG application definition to `app.py` so we can quickly import it."
   ]
  },
  {
   "cell_type": "code",
   "execution_count": 11,
   "metadata": {},
   "outputs": [],
   "source": [
    "from app import langsmith_rag"
   ]
  },
  {
   "cell_type": "markdown",
   "metadata": {},
   "source": [
    "Let's ask another question to create a new trace!"
   ]
  },
  {
   "cell_type": "code",
   "execution_count": 12,
   "metadata": {},
   "outputs": [
    {
     "data": {
      "text/plain": [
       "'To set up tracing to LangSmith with LangChain, first ensure your LangSmith instance is running. Then, use the LangChain tracer or LangSmith SDK, ensuring to pass the hostname for unprotected configurations. For enhanced security, consider setting up DNS, SSL, and authentication mechanisms as recommended in the guidelines.'"
      ]
     },
     "execution_count": 12,
     "metadata": {},
     "output_type": "execute_result"
    }
   ],
   "source": [
    "question = \"How do I set up tracing to LangSmith if I'm using LangChain?\"\n",
    "langsmith_rag(question)"
   ]
  },
  {
   "cell_type": "code",
   "execution_count": 13,
   "metadata": {},
   "outputs": [
    {
     "data": {
      "text/plain": [
       "\"I don't know.\""
      ]
     },
     "execution_count": 13,
     "metadata": {},
     "output_type": "execute_result"
    }
   ],
   "source": [
    "question = \"How do learn to drive \"\n",
    "langsmith_rag(question) "
   ]
  },
  {
   "cell_type": "code",
   "execution_count": 14,
   "metadata": {},
   "outputs": [
    {
     "data": {
      "text/plain": [
       "'I say \"I don\\'t know\" when the information needed to answer your question is not available in the context provided. My goal is to provide accurate and concise responses, so if I lack the necessary information, it\\'s best to acknowledge it. If you have more specific questions, feel free to ask!'"
      ]
     },
     "execution_count": 14,
     "metadata": {},
     "output_type": "execute_result"
    }
   ],
   "source": [
    "question = \"Why you always say i don't know\"\n",
    "langsmith_rag(question) "
   ]
  }
 ],
 "metadata": {
  "kernelspec": {
   "display_name": "ls-academy",
   "language": "python",
   "name": "python3"
  },
  "language_info": {
   "codemirror_mode": {
    "name": "ipython",
    "version": 3
   },
   "file_extension": ".py",
   "mimetype": "text/x-python",
   "name": "python",
   "nbconvert_exporter": "python",
   "pygments_lexer": "ipython3",
   "version": "3.11.13"
  }
 },
 "nbformat": 4,
 "nbformat_minor": 4
}
