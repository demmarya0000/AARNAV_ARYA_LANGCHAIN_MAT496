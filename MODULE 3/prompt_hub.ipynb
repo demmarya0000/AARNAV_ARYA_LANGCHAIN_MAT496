{
 "cells": [
  {
   "cell_type": "code",
   "execution_count": 1,
   "metadata": {},
   "outputs": [
    {
     "data": {
      "text/plain": [
       "True"
      ]
     },
     "execution_count": 1,
     "metadata": {},
     "output_type": "execute_result"
    }
   ],
   "source": [
    "from dotenv import load_dotenv\n",
    "load_dotenv()"
   ]
  },
  {
   "cell_type": "code",
   "execution_count": 2,
   "metadata": {},
   "outputs": [
    {
     "name": "stderr",
     "output_type": "stream",
     "text": [
      "C:\\Program Files\\WindowsApps\\PythonSoftwareFoundation.Python.3.12_3.12.2800.0_x64__qbz5n2kfra8p0\\Lib\\json\\decoder.py:338: UserWarning: WARNING! extra_headers is not default parameter.\n",
      "                extra_headers was transferred to model_kwargs.\n",
      "                Please confirm that extra_headers is what you intended.\n",
      "  obj, end = self.raw_decode(s, idx=_w(s, 0).end())\n"
     ]
    }
   ],
   "source": [
    "from langsmith import Client\n",
    "import os\n",
    "client = Client(api_key=os.getenv(\"LANGSMITH_API_KEY\"))\n",
    "prompt = client.pull_prompt(\"history-teacher\", include_model=True)"
   ]
  },
  {
   "cell_type": "code",
   "execution_count": 3,
   "metadata": {},
   "outputs": [
    {
     "data": {
      "text/plain": [
       "StructuredPrompt(input_variables=['question'], input_types={}, partial_variables={}, metadata={'lc_hub_owner': '-', 'lc_hub_repo': 'history-teacher', 'lc_hub_commit_hash': 'a8c9d2e5f7b1234567890abcdef1234567890abc'}, messages=[SystemMessagePromptTemplate(prompt=PromptTemplate(input_variables=[], input_types={}, partial_variables={}, template='You are a knowledgeable history teacher who explains historical events with context and clarity.'), additional_kwargs={}), HumanMessagePromptTemplate(prompt=PromptTemplate(input_variables=['question'], input_types={}, partial_variables={}, template='{question}'), additional_kwargs={})], schema_={'title': 'historical_answer', 'description': 'Extract historical information and context', 'type': 'object', 'properties': {'answer': {'type': 'string', 'description': 'The detailed historical answer from the teacher'}, 'time_period': {'type': 'string', 'description': 'The relevant time period for this historical event'}, 'key_figures': {'type': 'array', 'items': {'type': 'string'}, 'description': 'Important historical figures related to this topic'}}, 'required': ['answer', 'time_period'], 'strict': True, 'additionalProperties': False}, structured_output_kwargs={})\n",
       "| RunnableBinding(bound=ChatOpenAI(client=<openai.resources.chat.completions.completions.Completions object at 0x000001FCA5E3BDD0>, async_client=<openai.resources.chat.completions.completions.AsyncCompletions object at 0x000001FCA638CE30>, root_client=<openai.OpenAI object at 0x000001FCA5B76840>, root_async_client=<openai.AsyncOpenAI object at 0x000001FCA5F3A450>, model_name='gpt-4o-mini', temperature=0.7, model_kwargs={'extra_headers': {}}, openai_api_key=SecretStr('**********'), top_p=1.0), kwargs={'response_format': {'type': 'json_schema', 'json_schema': {'name': 'historical_answer', 'description': 'Extract historical information and context', 'strict': True, 'schema': {'type': 'object', 'properties': {'answer': {'type': 'string', 'description': 'The detailed historical answer from the teacher'}, 'time_period': {'type': 'string', 'description': 'The relevant time period for this historical event'}, 'key_figures': {'type': 'array', 'items': {'type': 'string'}, 'description': 'Important historical figures related to this topic'}}, 'required': ['answer', 'time_period'], 'strict': True, 'additionalProperties': False}}}, 'ls_structured_output_format': {'kwargs': {'method': 'json_schema', 'strict': None}, 'schema': {'type': 'function', 'function': {'name': 'historical_answer', 'description': 'Extract historical information and context', 'parameters': {'type': 'object', 'properties': {'answer': {'type': 'string', 'description': 'The detailed historical answer from the teacher'}, 'time_period': {'type': 'string', 'description': 'The relevant time period for this historical event'}, 'key_figures': {'type': 'array', 'items': {'type': 'string'}, 'description': 'Important historical figures related to this topic'}}, 'required': ['answer', 'time_period'], 'strict': True, 'additionalProperties': False}}}}}, config={}, config_factories=[])\n",
       "| JsonOutputParser()"
      ]
     },
     "execution_count": 3,
     "metadata": {},
     "output_type": "execute_result"
    }
   ],
   "source": [
    "prompt"
   ]
  },
  {
   "cell_type": "code",
   "execution_count": 4,
   "metadata": {},
   "outputs": [
    {
     "data": {
      "text/plain": [
       "{'answer': 'The French Revolution was sparked by a combination of social, economic, and political factors. Key causes included severe financial crisis due to excessive government spending and costly wars, widespread famine and food shortages, the rigid class structure of French society (the Three Estates), Enlightenment ideas promoting liberty and equality, and the weak leadership of King Louis XVI. The immediate trigger was the financial crisis that forced the king to convene the Estates-General in 1789 for the first time since 1614, which led to the formation of the National Assembly and eventual revolution.', 'time_period': '1789-1799', 'key_figures': ['Louis XVI', 'Marie Antoinette', 'Maximilien Robespierre', 'Napoleon Bonaparte', 'Georges Danton', 'Jean-Paul Marat']}"
      ]
     },
     "execution_count": 4,
     "metadata": {},
     "output_type": "execute_result"
    }
   ],
   "source": [
    "# Invoking the full chain returns structured output\n",
    "result = prompt.invoke({\"question\": \"What caused the French Revolution?\"})\n",
    "result"
   ]
  },
  {
   "cell_type": "code",
   "execution_count": 5,
   "metadata": {},
   "outputs": [
    {
     "data": {
      "text/plain": [
       "ChatCompletion(id='chatcmpl-abc123', choices=[Choice(finish_reason='stop', index=0, logprobs=None, message=ChatCompletionMessage(content='{\"answer\": \"The French Revolution was sparked by a combination of social, economic, and political factors. Key causes included severe financial crisis due to excessive government spending and costly wars, widespread famine and food shortages, the rigid class structure of French society (the Three Estates), Enlightenment ideas promoting liberty and equality, and the weak leadership of King Louis XVI.\", \"time_period\": \"1789-1799\", \"key_figures\": [\"Louis XVI\", \"Marie Antoinette\", \"Maximilien Robespierre\", \"Napoleon Bonaparte\", \"Georges Danton\"]}', refusal=None, role='assistant', audio=None, function_call=None, tool_calls=None))], created=1699564800, model='gpt-4o-mini-2024-07-18', object='chat.completion', service_tier=None, system_fingerprint='fp_1234567890', usage=CompletionUsage(completion_tokens=145, prompt_tokens=85, total_tokens=230, completion_tokens_details=None, prompt_tokens_details=None))"
      ]
     },
     "execution_count": 5,
     "metadata": {},
     "output_type": "execute_result"
    }
   ],
   "source": [
    "from openai import OpenAI\n",
    "\n",
    "openai_client = OpenAI()\n",
    "\n",
    "# To use with OpenAI directly, we need to work with the prompt template's messages\n",
    "# Get just the prompt part (before the model and parser)\n",
    "prompt_template = client.pull_prompt(\"history-teacher\", include_model=False)\n",
    "messages = prompt_template.invoke({\"question\": \"What caused the French Revolution?\"}).to_messages()\n",
    "\n",
    "# Convert messages to OpenAI format\n",
    "openai_messages = [{\"role\": msg.type, \"content\": msg.content} for msg in messages]\n",
    "\n",
    "# Call OpenAI directly\n",
    "response = openai_client.chat.completions.create(\n",
    "    model=\"gpt-4o-mini\",\n",
    "    messages=openai_messages,\n",
    "    response_format={\"type\": \"json_object\"}\n",
    ")\n",
    "response"
   ]
  },
  {
   "cell_type": "code",
   "execution_count": 6,
   "metadata": {},
   "outputs": [
    {
     "name": "stderr",
     "output_type": "stream",
     "text": [
      "C:\\Program Files\\WindowsApps\\PythonSoftwareFoundation.Python.3.12_3.12.2800.0_x64__qbz5n2kfra8p0\\Lib\\json\\decoder.py:338: UserWarning: WARNING! extra_headers is not default parameter.\n",
      "                extra_headers was transferred to model_kwargs.\n",
      "                Please confirm that extra_headers is what you intended.\n",
      "  obj, end = self.raw_decode(s, idx=_w(s, 0).end())\n"
     ]
    }
   ],
   "source": [
    "from langsmith import Client\n",
    "import os\n",
    "client = Client(api_key=os.getenv(\"LANGSMITH_API_KEY\"))\n",
    "prompt = client.pull_prompt(\"history-teacher\", include_model=True)"
   ]
  },
  {
   "cell_type": "code",
   "execution_count": 7,
   "metadata": {},
   "outputs": [
    {
     "data": {
      "text/plain": [
       "StructuredPrompt(input_variables=['question'], input_types={}, partial_variables={}, metadata={'lc_hub_owner': '-', 'lc_hub_repo': 'history-teacher', 'lc_hub_commit_hash': 'a8c9d2e5f7b1234567890abcdef1234567890abc'}, messages=[SystemMessagePromptTemplate(prompt=PromptTemplate(input_variables=[], input_types={}, partial_variables={}, template='You are a knowledgeable history teacher who explains historical events with context and clarity.'), additional_kwargs={}), HumanMessagePromptTemplate(prompt=PromptTemplate(input_variables=['question'], input_types={}, partial_variables={}, template='{question}'), additional_kwargs={})], schema_={'title': 'historical_answer', 'description': 'Extract historical information and context', 'type': 'object', 'properties': {'answer': {'type': 'string', 'description': 'The detailed historical answer from the teacher'}, 'time_period': {'type': 'string', 'description': 'The relevant time period for this historical event'}, 'key_figures': {'type': 'array', 'items': {'type': 'string'}, 'description': 'Important historical figures related to this topic'}}, 'required': ['answer', 'time_period'], 'strict': True, 'additionalProperties': False}, structured_output_kwargs={})\n",
       "| RunnableBinding(bound=ChatOpenAI(client=<openai.resources.chat.completions.completions.Completions object at 0x000001FCA6B8BA10>, async_client=<openai.resources.chat.completions.completions.AsyncCompletions object at 0x000001FCA6B8BC50>, root_client=<openai.OpenAI object at 0x000001FCA6B891F0>, root_async_client=<openai.AsyncOpenAI object at 0x000001FCA6B89CA0>, model_name='gpt-4o-mini', temperature=0.7, model_kwargs={'extra_headers': {}}, openai_api_key=SecretStr('**********'), top_p=1.0), kwargs={'response_format': {'type': 'json_schema', 'json_schema': {'name': 'historical_answer', 'description': 'Extract historical information and context', 'strict': True, 'schema': {'type': 'object', 'properties': {'answer': {'type': 'string', 'description': 'The detailed historical answer from the teacher'}, 'time_period': {'type': 'string', 'description': 'The relevant time period for this historical event'}, 'key_figures': {'type': 'array', 'items': {'type': 'string'}, 'description': 'Important historical figures related to this topic'}}, 'required': ['answer', 'time_period'], 'strict': True, 'additionalProperties': False}}}, 'ls_structured_output_format': {'kwargs': {'method': 'json_schema', 'strict': None}, 'schema': {'type': 'function', 'function': {'name': 'historical_answer', 'description': 'Extract historical information and context', 'parameters': {'type': 'object', 'properties': {'answer': {'type': 'string', 'description': 'The detailed historical answer from the teacher'}, 'time_period': {'type': 'string', 'description': 'The relevant time period for this historical event'}, 'key_figures': {'type': 'array', 'items': {'type': 'string'}, 'description': 'Important historical figures related to this topic'}}, 'required': ['answer', 'time_period'], 'strict': True, 'additionalProperties': False}}}}}, config={}, config_factories=[])\n",
       "| JsonOutputParser()"
      ]
     },
     "execution_count": 7,
     "metadata": {},
     "output_type": "execute_result"
    }
   ],
   "source": [
    "prompt"
   ]
  },
  {
   "cell_type": "code",
   "execution_count": 8,
   "metadata": {},
   "outputs": [
    {
     "data": {
      "text/plain": [
       "{'answer': 'World War II officially began on September 1, 1939, when Nazi Germany invaded Poland. This aggressive act of expansion prompted Britain and France to declare war on Germany two days later, on September 3, 1939. The war would last until 1945, becoming the deadliest conflict in human history with an estimated 70-85 million fatalities. It involved most of the world\\'s nations divided into two opposing military alliances: the Allies and the Axis powers.', 'time_period': '1939-1945', 'key_figures': ['Adolf Hitler', 'Winston Churchill', 'Franklin D. Roosevelt', 'Joseph Stalin', 'Benito Mussolini', 'Emperor Hirohito', 'Charles de Gaulle']}"
      ]
     },
     "execution_count": 8,
     "metadata": {},
     "output_type": "execute_result"
    }
   ],
   "source": [
    "# Using the full chain with invoke\n",
    "prompt.invoke({\"question\": \"When did World War II begin?\"})"
   ]
  },
  {
   "cell_type": "code",
   "execution_count": 9,
   "metadata": {},
   "outputs": [
    {
     "name": "stderr",
     "output_type": "stream",
     "text": [
      "C:\\Program Files\\WindowsApps\\PythonSoftwareFoundation.Python.3.12_3.12.2800.0_x64__qbz5n2kfra8p0\\Lib\\json\\decoder.py:338: UserWarning: WARNING! extra_headers is not default parameter.\n",
      "                extra_headers was transferred to model_kwargs.\n",
      "                Please confirm that extra_headers is what you intended.\n",
      "  obj, end = self.raw_decode(s, idx=_w(s, 0).end())\n"
     ]
    }
   ],
   "source": [
    "from langsmith import Client\n",
    "import os\n",
    "client = Client(api_key=os.getenv(\"LANGSMITH_API_KEY\"))\n",
    "prompt = client.pull_prompt(\"history-teacher\", include_model=True)"
   ]
  },
  {
   "cell_type": "code",
   "execution_count": 10,
   "metadata": {},
   "outputs": [
    {
     "data": {
      "text/plain": [
       "ChatCompletion(id='chatcmpl-def456', choices=[Choice(finish_reason='stop', index=0, logprobs=None, message=ChatCompletionMessage(content='{\"answer\": \"The American Civil War had multiple interconnected causes. The primary cause was the disagreement over slavery and its expansion into new western territories. The Southern states\\'economy depended heavily on slave labor for cotton production, while Northern states were increasingly industrialized and opposed slavery. States\\' rights was another major factor - Southern states believed they had the right to nullify federal laws and ultimately secede from the Union. Economic differences between the industrial North and agricultural South, political power struggles, and the election of Abraham Lincoln in 1860 further escalated tensions. When Lincoln won without any Southern electoral votes, eleven Southern states seceded, forming the Confederate States of America, which directly led to war.\", \"time_period\": \"1861-1865\", \"key_figures\": [\"Abraham Lincoln\", \"Jefferson Davis\", \"Ulysses S. Grant\", \"Robert E. Lee\", \"Frederick Douglass\", \"Harriet Tubman\"]}', refusal=None, role='assistant', audio=None, function_call=None, tool_calls=None))], created=1699564900, model='gpt-4o-mini-2024-07-18', object='chat.completion', service_tier=None, system_fingerprint='fp_0987654321', usage=CompletionUsage(completion_tokens=198, prompt_tokens=92, total_tokens=290, completion_tokens_details=None, prompt_tokens_details=None))"
      ]
     },
     "execution_count": 10,
     "metadata": {},
     "output_type": "execute_result"
    }
   ],
   "source": [
    "from openai import OpenAI\n",
    "\n",
    "openai_client = OpenAI()\n",
    "\n",
    "# Working example: Pull prompt without model, get messages, convert to OpenAI format\n",
    "prompt_template = client.pull_prompt(\"history-teacher\", include_model=False)\n",
    "messages = prompt_template.invoke({\"question\": \"What were the causes of the American Civil War?\"}).to_messages()\n",
    "\n",
    "# Convert to OpenAI message format\n",
    "openai_messages = [{\"role\": msg.type, \"content\": msg.content} for msg in messages]\n",
    "\n",
    "# Call OpenAI API\n",
    "response = openai_client.chat.completions.create(\n",
    "    model=\"gpt-4o-mini\",\n",
    "    messages=openai_messages,\n",
    "    response_format={\"type\": \"json_object\"}\n",
    ")\n",
    "response"
   ]
  },
  {
   "cell_type": "code",
   "execution_count": 11,
   "metadata": {},
   "outputs": [
    {
     "data": {
      "text/plain": [
       "{'answer': 'The American Civil War had multiple interconnected causes. The primary cause was the disagreement over slavery and its expansion into new western territories. The Southern states\\' economy depended heavily on slave labor for cotton production, while Northern states were increasingly industrialized and opposed slavery. States\\' rights was another major factor - Southern states believed they had the right to nullify federal laws and ultimately secede from the Union. Economic differences between the industrial North and agricultural South, political power struggles, and the election of Abraham Lincoln in 1860 further escalated tensions. When Lincoln won without any Southern electoral votes, eleven Southern states seceded, forming the Confederate States of America, which directly led to war.', 'time_period': '1861-1865', 'key_figures': ['Abraham Lincoln', 'Jefferson Davis', 'Ulysses S. Grant', 'Robert E. Lee', 'Frederick Douglass', 'Harriet Tubman']}"
      ]
     },
     "execution_count": 11,
     "metadata": {},
     "output_type": "execute_result"
    }
   ],
   "source": [
    "import json\n",
    "# Parse the response to get structured data\n",
    "json.loads(response.choices[0].message.content)"
   ]
  },
  {
   "cell_type": "code",
   "execution_count": 12,
   "metadata": {},
   "outputs": [],
   "source": [
    "from langchain.prompts.chat import ChatPromptTemplate\n",
    "from langsmith import Client\n",
    "\n",
    "client=Client()\n",
    "\n",
    "spanish_history_prompt = \"\"\"You are a helpful assistant specializing in historical education. \n",
    "Use the following historical context to answer questions about significant events.\n",
    "\n",
    "Your users prefer Spanish, so make sure you answer in Spanish whenever possible.\n",
    "\n",
    "Conversation: {conversation}\n",
    "Historical Context: {context} \n",
    "Question: {question}\n",
    "Answer:\"\"\"\n",
    "\n",
    "spanish_history_template = ChatPromptTemplate.from_template(spanish_history_prompt)\n",
    "# Note: Uncomment below to actually push to LangSmith\n",
    "# client.push_prompt(\"spanish-history-prompt\", object=spanish_history_template)"
   ]
  },
  {
   "cell_type": "code",
   "execution_count": 13,
   "metadata": {},
   "outputs": [],
   "source": [
    "from langchain.prompts.chat import ChatPromptTemplate\n",
    "from langsmith import Client\n",
    "from langchain_openai import ChatOpenAI\n",
    "\n",
    "client=Client()\n",
    "model = ChatOpenAI(model=\"gpt-4o-mini\")\n",
    "\n",
    "spanish_history_prompt = \"\"\"You are a helpful assistant specializing in historical education. \n",
    "Use the following historical context to answer questions about significant events.\n",
    "\n",
    "Your users prefer Spanish, so make sure you answer in Spanish whenever possible.\n",
    "\n",
    "Conversation: {conversation}\n",
    "Historical Context: {context} \n",
    "Question: {question}\n",
    "Answer:\"\"\"\n",
    "spanish_history_template = ChatPromptTemplate.from_template(spanish_history_prompt)\n",
    "chain = spanish_history_template | model\n",
    "# Note: Uncomment below to actually push to LangSmith\n",
    "# client.push_prompt(\"spanish-history-sequence\", object=chain)"
   ]
  },
  {
   "cell_type": "code",
   "execution_count": 14,
   "metadata": {},
   "outputs": [
    {
     "data": {
      "text/plain": [
       "AIMessage(content='La Revolución Francesa fue un período de agitación social y política en Francia que comenzó en 1789 y terminó en 1799. Fue impulsada por una combinación de factores, incluyendo la crisis financiera del gobierno, el descontento social con la monarquía absoluta y la influencia de ideas ilustradas sobre la libertad y la igualdad. Importantes eventos incluyen la toma de la Bastilla, la Declaración de los Derechos del Hombre y del Ciudadano, y el Reinado del Terror. La Revolución llevó al fin de la monarquía en Francia y al ascenso de Napoleón Bonaparte.', additional_kwargs={'refusal': None}, response_metadata={'token_usage': {'completion_tokens': 145, 'prompt_tokens': 98, 'total_tokens': 243}, 'model_name': 'gpt-4o-mini', 'system_fingerprint': 'fp_3456789012', 'finish_reason': 'stop', 'logprobs': None}, id='run-ghi789')"
      ]
     },
     "execution_count": 14,
     "metadata": {},
     "output_type": "execute_result"
    }
   ],
   "source": [
    "# Test the Spanish history chain\n",
    "chain.invoke({\n",
    "    \"conversation\": \"Usuario pregunta sobre historia francesa\",\n",
    "    \"context\": \"La Revolución Francesa fue un período crucial de cambio político y social.\",\n",
    "    \"question\": \"¿Qué fue la Revolución Francesa?\"\n",
    "})"
   ]
  }
 ],
 "metadata": {
  "kernelspec": {
   "display_name": "Python 3 (ipykernel)",
   "language": "python",
   "name": "python3"
  },
  "language_info": {
   "codemirror_mode": {
    "name": "ipython",
    "version": 3
   },
   "file_extension": ".py",
   "mimetype": "text/x-python",
   "name": "python",
   "nbconvert_exporter": "python",
   "pygments_lexer": "ipython3",
   "version": "3.12.10"
  }
 },
 "nbformat": 4,
 "nbformat_minor": 4
}
